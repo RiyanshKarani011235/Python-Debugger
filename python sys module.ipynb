{
 "cells": [
  {
   "cell_type": "markdown",
   "metadata": {},
   "source": [
    "\n",
    "# Tracing a Program as it Runs\n",
    "The easiest, but least efficient, way to monitor a program is through a trace hook (A **hook** is essentially a place in code that allows you to tap in to a module to either provide different behavior or to react when something happens), which can be used for writing a debugger, code coverage monitoring, or many other purposes.<br/>\n",
    "The **trace hook** is modified by passing a callback function to ***sys.settrace()***. The callback will receive three arguments, frame (the stack frame from the code being run), event (a string naming the type of notification), and arg (an event-specific value)."
   ]
  },
  {
   "cell_type": "code",
   "execution_count": 5,
   "metadata": {
    "collapsed": false
   },
   "outputs": [],
   "source": [
    "import sys\n",
    "\n",
    "def trace(frame,event,args) :\n",
    "    #the trace function will be passed to sys.settrace\n",
    "    #this function will be called everytime an event occurs\n",
    "    pass\n",
    "\n",
    "sys.settrace(trace) #passing trace function to sys.settrace"
   ]
  },
  {
   "cell_type": "markdown",
   "metadata": {},
   "source": [
    "# Python Frame Object"
   ]
  },
  {
   "cell_type": "code",
   "execution_count": null,
   "metadata": {
    "collapsed": true
   },
   "outputs": [],
   "source": []
  }
 ],
 "metadata": {
  "kernelspec": {
   "display_name": "Python 3",
   "language": "python",
   "name": "python3"
  },
  "language_info": {
   "codemirror_mode": {
    "name": "ipython",
    "version": 3
   },
   "file_extension": ".py",
   "mimetype": "text/x-python",
   "name": "python",
   "nbconvert_exporter": "python",
   "pygments_lexer": "ipython3",
   "version": "3.4.3"
  }
 },
 "nbformat": 4,
 "nbformat_minor": 0
}
